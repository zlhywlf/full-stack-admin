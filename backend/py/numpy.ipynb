{
 "cells": [
  {
   "cell_type": "code",
   "execution_count": 1,
   "metadata": {
    "collapsed": true,
    "ExecuteTime": {
     "end_time": "2023-07-26T07:30:38.182600Z",
     "start_time": "2023-07-26T07:30:36.978238Z"
    }
   },
   "outputs": [
    {
     "data": {
      "text/plain": "'1.19.2'"
     },
     "execution_count": 1,
     "metadata": {},
     "output_type": "execute_result"
    }
   ],
   "source": [
    "import numpy as np\n",
    "\n",
    "np.__version__"
   ]
  },
  {
   "cell_type": "code",
   "execution_count": 2,
   "outputs": [
    {
     "data": {
      "text/plain": "(10,)"
     },
     "execution_count": 2,
     "metadata": {},
     "output_type": "execute_result"
    }
   ],
   "source": [
    "arr = np.arange(10)\n",
    "arr.shape"
   ],
   "metadata": {
    "collapsed": false,
    "ExecuteTime": {
     "end_time": "2023-07-26T07:34:07.199565Z",
     "start_time": "2023-07-26T07:34:07.192233Z"
    }
   }
  },
  {
   "cell_type": "code",
   "execution_count": 5,
   "outputs": [
    {
     "data": {
      "text/plain": "(2, 3)"
     },
     "execution_count": 5,
     "metadata": {},
     "output_type": "execute_result"
    }
   ],
   "source": [
    "arr = np.array([[0, 1, 2, ], [3, 4, 5]])\n",
    "arr.shape"
   ],
   "metadata": {
    "collapsed": false,
    "ExecuteTime": {
     "end_time": "2023-07-26T07:43:24.410379Z",
     "start_time": "2023-07-26T07:43:24.391703Z"
    }
   }
  },
  {
   "cell_type": "code",
   "execution_count": 6,
   "outputs": [
    {
     "data": {
      "text/plain": "array([0.38231771, 0.75778321, 0.12861306, 0.38894206, 0.15269124,\n       0.85529939, 0.11987724, 0.76485662, 0.49630987, 0.79408374])"
     },
     "execution_count": 6,
     "metadata": {},
     "output_type": "execute_result"
    }
   ],
   "source": [
    "np.random.random(10)"
   ],
   "metadata": {
    "collapsed": false,
    "ExecuteTime": {
     "end_time": "2023-07-26T07:43:39.704267Z",
     "start_time": "2023-07-26T07:43:39.661156Z"
    }
   }
  },
  {
   "cell_type": "code",
   "execution_count": 7,
   "outputs": [
    {
     "data": {
      "text/plain": "array([[0.58266739, 0.4294642 , 0.03781811],\n       [0.93628438, 0.7077663 , 0.76332784],\n       [0.92411764, 0.57009182, 0.70230343]])"
     },
     "execution_count": 7,
     "metadata": {},
     "output_type": "execute_result"
    }
   ],
   "source": [
    "np.random.random((3, 3))"
   ],
   "metadata": {
    "collapsed": false,
    "ExecuteTime": {
     "end_time": "2023-07-26T07:44:17.083610Z",
     "start_time": "2023-07-26T07:44:17.079486Z"
    }
   }
  },
  {
   "cell_type": "code",
   "execution_count": 9,
   "outputs": [
    {
     "data": {
      "text/plain": "array([[-0.52790209, -0.60405038, -1.20020863,  0.30713507, -0.01502211,\n         1.15334434, -1.2944237 ,  1.91050103, -0.68949464, -1.17562469],\n       [-0.20593182, -1.78401499, -2.43221   , -0.20059109,  0.05987299,\n        -0.51430523, -0.38221267, -1.79031241, -0.51816833, -0.53511099],\n       [ 0.96719751, -0.13625452,  0.61699881,  2.31301857, -1.14287048,\n         0.05692135, -0.95193796,  0.18427278,  1.62435839, -0.17990283],\n       [ 1.17667883, -0.0248784 ,  1.12386645, -1.63665761, -1.24889804,\n         1.0363803 , -1.08403956, -3.21197978, -1.04042768, -1.00765451],\n       [ 1.5049206 , -0.94445019,  0.82639083, -0.56707984,  0.85177833,\n        -0.10116492,  1.79931691,  0.68385163,  0.00582556, -0.88298579],\n       [-2.08587004,  1.72444702,  1.56397563, -1.08523817,  0.27183605,\n        -1.19972647,  0.16253776, -1.44385597,  1.06160853,  1.67840831],\n       [ 1.29695044, -0.60542267,  1.40999929, -0.80564313,  0.44071838,\n         0.27791547,  0.51236144, -2.01563184, -2.39848647,  1.37997915],\n       [ 0.5319188 , -0.71705582,  0.60128961,  0.56873622,  0.71553155,\n        -0.69567654,  0.24630346, -0.87843612, -0.32301329, -1.03792171],\n       [-1.17160587,  0.95068827,  0.61379153, -0.14715019, -0.99741428,\n         1.25644688, -1.53376651, -1.20643214, -0.36639218, -1.49793604],\n       [-0.91320521, -0.24934748, -1.29582925, -0.75489359, -1.15445781,\n         0.02611092, -1.24084138, -0.78729639,  0.37973779, -0.2893477 ]])"
     },
     "execution_count": 9,
     "metadata": {},
     "output_type": "execute_result"
    }
   ],
   "source": [
    "np.random.randn(10, 10)"
   ],
   "metadata": {
    "collapsed": false,
    "ExecuteTime": {
     "end_time": "2023-07-26T07:46:26.969849Z",
     "start_time": "2023-07-26T07:46:26.958148Z"
    }
   }
  },
  {
   "cell_type": "code",
   "execution_count": null,
   "outputs": [],
   "source": [],
   "metadata": {
    "collapsed": false
   }
  }
 ],
 "metadata": {
  "kernelspec": {
   "display_name": "Python 3",
   "language": "python",
   "name": "python3"
  },
  "language_info": {
   "codemirror_mode": {
    "name": "ipython",
    "version": 2
   },
   "file_extension": ".py",
   "mimetype": "text/x-python",
   "name": "python",
   "nbconvert_exporter": "python",
   "pygments_lexer": "ipython2",
   "version": "2.7.6"
  }
 },
 "nbformat": 4,
 "nbformat_minor": 0
}
