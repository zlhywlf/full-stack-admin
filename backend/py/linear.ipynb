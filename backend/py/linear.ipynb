{
 "cells": [
  {
   "cell_type": "markdown",
   "source": [
    "# 线性代数\n",
    "## 依赖包\n",
    "\n",
    "```shell\n",
    "# https://pypi.org/project/PuLP/#files\n",
    "python -m pip install -U git+https://github.com/coin-or/pulp\n",
    "conda install -y scipy sympy\n",
    "```\n",
    "\n",
    "##  矩阵运算\n",
    "\n",
    "$A=\\begin{bmatrix} 3 & -1 & 2 \\\\ 1 & 5 & 7 \\\\ 5 & 4 & -3 \\\\ \\end{bmatrix},$\n",
    "$B=\\begin{bmatrix} 7 & 5 & -4 \\\\ 1 & 1 & 9 \\\\ 3 & -2 & 1 \\\\ \\end{bmatrix}$\n",
    "\n",
    "### 加(减)法\n",
    "A 与 B 均是同型矩阵，对应位置元素相加(减)"
   ],
   "metadata": {
    "collapsed": false
   },
   "id": "5721cb878383f1f0"
  },
  {
   "cell_type": "code",
   "execution_count": 22,
   "outputs": [
    {
     "data": {
      "text/plain": "⎡10  4  -2⎤\n⎢         ⎥\n⎢2   6  16⎥\n⎢         ⎥\n⎣8   2  -2⎦",
      "text/latex": "$\\displaystyle \\left[\\begin{matrix}10 & 4 & -2\\\\2 & 6 & 16\\\\8 & 2 & -2\\end{matrix}\\right]$"
     },
     "execution_count": 22,
     "metadata": {},
     "output_type": "execute_result"
    }
   ],
   "source": [
    "from sympy import Matrix\n",
    "\n",
    "A = Matrix([[3, -1, 2], [1, 5, 7], [5, 4, -3]])\n",
    "B = Matrix([[7, 5, -4], [1, 1, 9], [3, -2, 1]])\n",
    "A + B"
   ],
   "metadata": {
    "collapsed": false,
    "ExecuteTime": {
     "end_time": "2023-08-16T03:15:03.066303Z",
     "start_time": "2023-08-16T03:15:03.047153Z"
    }
   },
   "id": "311a90719a50df6f"
  },
  {
   "cell_type": "markdown",
   "source": [
    "### 数乘\n",
    "矩阵每个元素与该常数相乘"
   ],
   "metadata": {
    "collapsed": false
   },
   "id": "c8f5ea99de562313"
  },
  {
   "cell_type": "code",
   "execution_count": 10,
   "outputs": [
    {
     "data": {
      "text/plain": "⎡6   -2  4 ⎤\n⎢          ⎥\n⎢2   10  14⎥\n⎢          ⎥\n⎣10  8   -6⎦",
      "text/latex": "$\\displaystyle \\left[\\begin{matrix}6 & -2 & 4\\\\2 & 10 & 14\\\\10 & 8 & -6\\end{matrix}\\right]$"
     },
     "execution_count": 10,
     "metadata": {},
     "output_type": "execute_result"
    }
   ],
   "source": [
    "2 * A"
   ],
   "metadata": {
    "collapsed": false,
    "ExecuteTime": {
     "end_time": "2023-08-16T02:47:15.657608Z",
     "start_time": "2023-08-16T02:47:15.639895Z"
    }
   },
   "id": "4d9f47d2e316478b"
  },
  {
   "cell_type": "markdown",
   "source": [
    "### 乘法\n",
    "C=AB\n",
    "左边 A 的列数 与右边 B 的行数相等\n",
    "A 第 i 行与 B 第 j 列对应元素相乘的和作为 C 第 i 行 j 列的元素"
   ],
   "metadata": {
    "collapsed": false
   },
   "id": "eb57b423a172246f"
  },
  {
   "cell_type": "code",
   "execution_count": 12,
   "outputs": [
    {
     "data": {
      "text/plain": "⎡26  10  -19⎤\n⎢           ⎥\n⎢33  -4  48 ⎥\n⎢           ⎥\n⎣30  35  13 ⎦",
      "text/latex": "$\\displaystyle \\left[\\begin{matrix}26 & 10 & -19\\\\33 & -4 & 48\\\\30 & 35 & 13\\end{matrix}\\right]$"
     },
     "execution_count": 12,
     "metadata": {},
     "output_type": "execute_result"
    }
   ],
   "source": [
    "A * B"
   ],
   "metadata": {
    "collapsed": false,
    "ExecuteTime": {
     "end_time": "2023-08-16T03:01:10.840003Z",
     "start_time": "2023-08-16T03:01:10.814691Z"
    }
   },
   "id": "f8fbd2952546bb20"
  },
  {
   "cell_type": "markdown",
   "source": [
    "### 转置\n",
    "行与列依次对换"
   ],
   "metadata": {
    "collapsed": false
   },
   "id": "da2a55dd91abe041"
  },
  {
   "cell_type": "code",
   "execution_count": 14,
   "outputs": [
    {
     "data": {
      "text/plain": "⎡3   1  5 ⎤\n⎢         ⎥\n⎢-1  5  4 ⎥\n⎢         ⎥\n⎣2   7  -3⎦",
      "text/latex": "$\\displaystyle \\left[\\begin{matrix}3 & 1 & 5\\\\-1 & 5 & 4\\\\2 & 7 & -3\\end{matrix}\\right]$"
     },
     "execution_count": 14,
     "metadata": {},
     "output_type": "execute_result"
    }
   ],
   "source": [
    "A.T"
   ],
   "metadata": {
    "collapsed": false,
    "ExecuteTime": {
     "end_time": "2023-08-16T03:05:20.811593Z",
     "start_time": "2023-08-16T03:05:20.778403Z"
    }
   },
   "id": "4d430c9129232ad0"
  },
  {
   "cell_type": "markdown",
   "source": [
    "### 逆矩阵\n",
    "n 阶方阵可逆的充要条件是 r(A)=n，即 A 满秩"
   ],
   "metadata": {
    "collapsed": false
   },
   "id": "3be2f88f1def3273"
  },
  {
   "cell_type": "code",
   "execution_count": 37,
   "outputs": [
    {
     "data": {
      "text/plain": "⎡0.2057   -0.02392  0.08134 ⎤\n⎢                           ⎥\n⎢-0.1818  0.09091   0.09091 ⎥\n⎢                           ⎥\n⎣0.1005   0.08134   -0.07656⎦",
      "text/latex": "$\\displaystyle \\left[\\begin{matrix}0.2057 & -0.02392 & 0.08134\\\\-0.1818 & 0.09091 & 0.09091\\\\0.1005 & 0.08134 & -0.07656\\end{matrix}\\right]$"
     },
     "execution_count": 37,
     "metadata": {},
     "output_type": "execute_result"
    }
   ],
   "source": [
    "from sympy import eye\n",
    "\n",
    "A_inv = eye(3)\n",
    "if A.shape[0] == A.rank():\n",
    "    A_inv = A.inv()\n",
    "A_inv.evalf(4)"
   ],
   "metadata": {
    "collapsed": false,
    "ExecuteTime": {
     "end_time": "2023-08-16T03:31:28.757165Z",
     "start_time": "2023-08-16T03:31:28.679485Z"
    }
   },
   "id": "4d426dee921c95e0"
  },
  {
   "cell_type": "markdown",
   "source": [
    "## 线性规划\n",
    "\n",
    "$max \\quad f=72x_1+64x_2 \\\\\n",
    "s.t.\n",
    "\\begin{cases}\n",
    "x_1 + x_2 \\leq 50\\\\\n",
    "12x_1 + 8x_2 \\leq 480\\\\\n",
    "3x_1 \\leq 100\\\\\n",
    "x_1 \\geq 0, \\quad x_2 \\geq 0\n",
    "\\end{cases}\n",
    "$"
   ],
   "metadata": {
    "collapsed": false
   },
   "id": "6a5971cd127679a2"
  },
  {
   "cell_type": "code",
   "execution_count": 118,
   "outputs": [
    {
     "name": "stdout",
     "output_type": "stream",
     "text": [
      "Welcome to the CBC MILP Solver \n",
      "Version: 2.10.3 \n",
      "Build Date: Dec 15 2019 \n",
      "\n",
      "command line - /Users/tanghao/miniconda3/envs/learning/lib/python3.11/site-packages/pulp/solverdir/cbc/osx/64/cbc /var/folders/f9/y8qg28hs66g9nmh5pct38vfm0000gn/T/d735441b3fa44b529b29c0ab7f70b1ce-pulp.mps max timeMode elapsed branch printingOptions all solution /var/folders/f9/y8qg28hs66g9nmh5pct38vfm0000gn/T/d735441b3fa44b529b29c0ab7f70b1ce-pulp.sol (default strategy 1)\n",
      "At line 2 NAME          MODEL\n",
      "At line 3 ROWS\n",
      "At line 8 COLUMNS\n",
      "At line 16 RHS\n",
      "At line 20 BOUNDS\n",
      "At line 21 ENDATA\n",
      "Problem MODEL has 3 rows, 2 columns and 5 elements\n",
      "Coin0008I MODEL read with 0 errors\n",
      "Option for timeMode changed from cpu to elapsed\n",
      "Presolve 2 (-1) rows, 2 (0) columns and 4 (-1) elements\n",
      "0  Obj -0 Dual inf 136 (2)\n",
      "2  Obj 3360\n",
      "Optimal - objective value 3360\n",
      "After Postsolve, objective 3360, infeasibilities - dual 0 (0), primal 0 (0)\n",
      "Optimal objective 3360 - 2 iterations time 0.002, Presolve 0.00\n",
      "Option for printingOptions changed from normal to all\n",
      "Total time (CPU seconds):       0.00   (Wallclock seconds):       0.00\n",
      "\n",
      "x1=20.0\n",
      "x2=30.0\n",
      "y=3360.0\n"
     ]
    }
   ],
   "source": [
    "import pulp\n",
    "\n",
    "model = pulp.LpProblem(\"demo\", pulp.LpMaximize)\n",
    "x1 = pulp.LpVariable('x1', lowBound=0, cat=pulp.const.LpContinuous)\n",
    "x2 = pulp.LpVariable('x2', lowBound=0, cat=pulp.const.LpContinuous)\n",
    "model += 72 * x1 + 64 * x2\n",
    "model += x1 + x2 <= 50\n",
    "model += 12 * x1 + 8 * x2 <= 480\n",
    "model += 3 * x1 <= 100\n",
    "model.solve()\n",
    "print(\"x1={}\".format(x1.varValue))\n",
    "print('x2={}'.format(x2.varValue))\n",
    "print('y={}'.format(pulp.value(model.objective)))"
   ],
   "metadata": {
    "collapsed": false,
    "ExecuteTime": {
     "end_time": "2023-08-16T07:37:44.309640Z",
     "start_time": "2023-08-16T07:37:44.291731Z"
    }
   },
   "id": "806dba6110722547"
  },
  {
   "cell_type": "code",
   "execution_count": 111,
   "outputs": [
    {
     "data": {
      "text/plain": "Matrix([\n[0.235217606201712],\n[0.282068624645561],\n[0.482713769152728]])",
      "text/latex": "$\\displaystyle \\left[\\begin{matrix}0.235217606201712\\\\0.282068624645561\\\\0.482713769152728\\end{matrix}\\right]$"
     },
     "execution_count": 111,
     "metadata": {},
     "output_type": "execute_result"
    }
   ],
   "source": [
    "from sympy import Matrix, ones, diag\n",
    "\n",
    "# material = Matrix([\n",
    "#     [67.1, 29.2, 0.97, 2.01, 0.94, 0.66, 9.58, 3.5, 800],\n",
    "#     [65.3, 27.4, 0.69, 6.64, 0.76, 0.23, 7.06, 2.1, 780],\n",
    "#     [64.9, 28.05, 1.94, 2.49, 0.83, 0.61, 7.22, 2.9, 765],\n",
    "#     [0, 0, 3.5, 43.8, 2.9, 0.02, 11.2, 11, 565],\n",
    "#     [62.6, 5.6, 0.16, 3.7, 0.5, 0.06, 0, 0, 16]\n",
    "# ])\n",
    "\n",
    "# pct = Matrix([\n",
    "#     [24, 28, 48, 1.5, 0.6]\n",
    "# ])\n",
    "\n",
    "material = Matrix([\n",
    "    [.671, .292, .0097, .0201, .0094, .0066, .0958, .035, 800],\n",
    "    [.653, .274, .0069, .0664, .0076, .0023, .0706, .021, 780],\n",
    "    [.649, .2805, .0194, .0249, .0083, .0061, .0722, .029, 765],\n",
    "])\n",
    "\n",
    "pct = Matrix([\n",
    "    [0.24, 0.28, 0.48]\n",
    "])\n",
    "material_w = material[0:3, 6:7]\n",
    "r, c = material_w.shape\n",
    "diag(pct.values(), unpack=True) * (ones(r, c) - material_w) * (1 / pct.dot((ones(r, c) - material_w)))"
   ],
   "metadata": {
    "collapsed": false,
    "ExecuteTime": {
     "end_time": "2023-08-16T07:20:49.075178Z",
     "start_time": "2023-08-16T07:20:49.073050Z"
    }
   },
   "id": "698494e91f735d68"
  }
 ],
 "metadata": {
  "kernelspec": {
   "display_name": "Python 3",
   "language": "python",
   "name": "python3"
  },
  "language_info": {
   "codemirror_mode": {
    "name": "ipython",
    "version": 2
   },
   "file_extension": ".py",
   "mimetype": "text/x-python",
   "name": "python",
   "nbconvert_exporter": "python",
   "pygments_lexer": "ipython2",
   "version": "2.7.6"
  }
 },
 "nbformat": 4,
 "nbformat_minor": 5
}
