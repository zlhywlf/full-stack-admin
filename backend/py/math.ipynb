{
 "cells": [
  {
   "cell_type": "markdown",
   "source": [
    "# 高等数学\n"
   ],
   "metadata": {
    "collapsed": false
   },
   "id": "9e58d263857090e0"
  },
  {
   "cell_type": "code",
   "execution_count": null,
   "outputs": [],
   "source": [
    "import matplotlib.pyplot as plt\n",
    "import matplotlib.ticker as ticker\n",
    "from mpl_toolkits.axisartist.axislines import AxesZero\n",
    "import numpy as np\n",
    "\n",
    "\n",
    "def draw_function(func, start: float = -2, stop: float = 2, step=0.01) -> None:\n",
    "    \"\"\"\n",
    "    绘制函数图像到笛卡尔直角坐标系。\n",
    "    :param func: 函数绘制\n",
    "    :param start: 自变量下限\n",
    "    :param stop: 自变量上限\n",
    "    :param step: 自变量步长\n",
    "    \"\"\"\n",
    "    ax = plt.figure().add_subplot(axes_class=AxesZero)\n",
    "    for direction in [\"xzero\", \"yzero\"]:\n",
    "        ax.axis[direction].set_axisline_style(\"->\")\n",
    "        ax.axis[direction].set_visible(True)\n",
    "    for direction in [\"left\", \"right\", \"bottom\", \"top\"]:\n",
    "        ax.axis[direction].set_visible(False)\n",
    "    func(ax, np.arange(start, stop, step))\n",
    "    ax.grid(True)\n",
    "    plt.gca().yaxis.set_major_formatter(ticker.FuncFormatter(lambda x, pos: \"\" if np.isclose(x, 0) else str(x)))\n",
    "    plt.gca().xaxis.set_major_formatter(ticker.FuncFormatter(lambda x, pos: \"   0\" if np.isclose(x, 0) else str(x)))\n",
    "    plt.show()"
   ],
   "metadata": {
    "collapsed": false
   },
   "id": "45c3996125493731"
  },
  {
   "cell_type": "markdown",
   "source": [
    "## 一元函数微分\n",
    "### 函数及其相关概念\n",
    "#### 函数概念\n",
    "##### 定义\n",
    "\n",
    "从非空实数集合 $D$ 到非空实数集合 $B$ 的一个函数关系 $f$ 是这样一种对应关系：对于 $D$ 中每个元素 $x$，对应 $B$ 中唯一确定的元素 $y$，记为：\n",
    "\n",
    "$$\n",
    "y=f(x) \\quad x\\in D\n",
    "$$\n",
    "\n",
    "- $x$ 成为自变量，$y$ 成为因变量。\n",
    "- $x$ 的变化范围D称为 $y=f(x)$ 的定义域。\n",
    "- 当 $x = x_{0}$ 时，则 $f(x_{0})$ 表示函数值，记为 $y(x_{0})$ 或 $y|_{x=0}$。\n",
    "- 函数值的变化范围 $B$ 称为 $y=f(x)$ 的值域。\n",
    "\n",
    "###### 基本初等函数\n",
    "\n",
    "- 幂函数：$y=x^a$ （$a$ 为常数）"
   ],
   "metadata": {
    "collapsed": false
   },
   "id": "ab65800b5c4909e0"
  },
  {
   "cell_type": "code",
   "execution_count": null,
   "outputs": [],
   "source": [
    "draw_function(lambda ax, x: (\n",
    "    ax.plot(x, x),\n",
    "    ax.annotate(r'$y=x^1$', xy=(2, 2), xytext=(1.7, 2)),\n",
    "    ax.plot(x, x ** 2),\n",
    "    ax.annotate(r'$y=x^2$', xy=(2, 4), xytext=(1.7, 4)),\n",
    "    ax.plot(x, x ** 3),\n",
    "    ax.annotate(r'$y=x^3$', xy=(2, 8), xytext=(1.7, 8))\n",
    "))"
   ],
   "metadata": {
    "collapsed": false
   },
   "id": "e59388cb3298b37a"
  },
  {
   "cell_type": "markdown",
   "source": [
    "- 指数函数：$y=a^x$ （$a>0$ 且 $a \\not =1$）"
   ],
   "metadata": {
    "collapsed": false
   },
   "id": "51c8629e725ba41d"
  },
  {
   "cell_type": "code",
   "execution_count": null,
   "outputs": [],
   "source": [
    "draw_function(lambda ax, x: (\n",
    "    ax.plot(x, 2 ** x),\n",
    "    ax.annotate(r'$y=2^x$', xy=(2, 4), xytext=(1.6, 4)),\n",
    "    ax.plot(x, 3 ** x),\n",
    "    ax.annotate(r'$y=3^x$', xy=(2, 9), xytext=(1.6, 9)),\n",
    "    ax.plot(x, np.e ** x),\n",
    "    ax.annotate(r'$y=e^x$', xy=(2, 4), xytext=(1.6, 7.2))\n",
    "))"
   ],
   "metadata": {
    "collapsed": false
   },
   "id": "f58ee7878e9bbbc6"
  },
  {
   "cell_type": "markdown",
   "source": [
    "- 对数函数；$y= \\log _{a}x$ （$a>0$ 且 $a \\not =1$）"
   ],
   "metadata": {
    "collapsed": false
   },
   "id": "5f99d51a66436d4"
  },
  {
   "cell_type": "code",
   "execution_count": null,
   "outputs": [],
   "source": [
    "draw_function(lambda ax, x: (\n",
    "    ax.plot(x, np.log(x) / np.log(2)),\n",
    "    ax.annotate(r'$y= \\log _{2}x$', xy=(16, 4), xytext=(14, 4.2))\n",
    "), 0.01, 16)"
   ],
   "metadata": {
    "collapsed": false
   },
   "id": "a22bd258fb7aa99e"
  },
  {
   "cell_type": "markdown",
   "source": [
    "- 三角函数：$y= \\sin x$，$y= \\cos x$，$y= \\tan x$，$y= \\cot x$$y= \\sec x$，$y= \\csc x$"
   ],
   "metadata": {
    "collapsed": false
   },
   "id": "6bd0a055f4ed43b5"
  },
  {
   "cell_type": "code",
   "execution_count": null,
   "outputs": [],
   "source": [
    "draw_function(lambda ax, x: (\n",
    "    ax.plot(x, np.sin(x)),\n",
    "    ax.annotate(r'$y= \\sin x$', xy=(np.pi, 0), xytext=(np.pi, 0.1)),\n",
    "    ax.plot(x, np.cos(x)),\n",
    "    ax.annotate(r'$y= \\cos x$', xy=(np.pi, -1), xytext=(np.pi, -0.9))\n",
    "), -np.pi, np.pi)"
   ],
   "metadata": {
    "collapsed": false
   },
   "id": "22c0f0ca32b2f46e"
  },
  {
   "cell_type": "markdown",
   "source": [
    "- 反三角函数：$y= \\arcsin x$，$y= \\arccos x$，$y= \\arctan x$，$y= \\arccot x$"
   ],
   "metadata": {
    "collapsed": false
   },
   "id": "4102c7ddf3d4c276"
  },
  {
   "cell_type": "code",
   "execution_count": null,
   "outputs": [],
   "source": [
    "draw_function(lambda ax, x: (\n",
    "    ax.plot(x, np.arcsin(x)),\n",
    "    ax.annotate(r'$y= \\arcsin x$', xy=(1, 1.5), xytext=(0.65, 1.5))\n",
    "), -1, 1)"
   ],
   "metadata": {
    "collapsed": false
   },
   "id": "7a040e81c07e15c8"
  },
  {
   "cell_type": "markdown",
   "source": [
    "###### 函数的四种特性\n",
    "- 有界性\n",
    "- 单调性\n",
    "- 记偶性\n",
    "- 周期性\n",
    "\n",
    "#### 函数的复合运算\n",
    "\n",
    "##### 复合函数\n",
    "设 $y$ 是 $u$ 的函数 $y=f(u)$，$u$ 是 $x$ 的函数 $u= \\varphi (x)$，当 $x$ 在某一区间上取值时，相应的 $u$ 使 $y$ 有意义，则 $y=f(u)$ 与 $u= \\varphi (x)$ 可构成复合函数 $y= f[\\varphi (x)]$，此时 $u$ 为中间变量，称 $y$ 是 $x$ 的复合函数。\n",
    "\n",
    "#### 数学模型方法概述\n",
    "- 科学地识别与剖析实际问题\n",
    "- 形成数学模型（分析问题中哪些是变量、哪些是常量，分别用不同的字母表示；根据所给的条件，运用相关知识，确定一个满足这些关系的函数或图形）\n",
    "- 求解数学问题\n",
    "- 研究算法，并尽量使用计算机\n",
    "- 回到实际中去，解释结果\n",
    "\n",
    "### 极限与连续\n",
    "#### 数列极限\n",
    "对于数列 $\\{a_{n}\\}$，当 $n$ 无限增大时（即 $n \\to \\infty$ 时），通项 $a_{n}$ 无限接近某个常数 $A$，则称 $A$ 为 $n \\to \\infty$ 时数列 $\\{a_{n}\\}$ 的极限，或称数列 $\\{a_{n}\\}$ 收敛于 $A$，记作：\n",
    "$$\\lim_{n \\to \\infty} a_{n}=A$$ \n",
    "或 \n",
    "$$a_{n} \\to A \\quad (n \\to \\infty)$$\n",
    "否则，称 $n \\to \\infty$ 时数列 $\\{a_{n}\\}$ 没有极限或发散，记作 $\\lim_{n \\to \\infty} a_{n}$ 不存在。"
   ],
   "metadata": {
    "collapsed": false
   },
   "id": "3e205e58168fce13"
  }
 ],
 "metadata": {
  "kernelspec": {
   "display_name": "Python 3",
   "language": "python",
   "name": "python3"
  },
  "language_info": {
   "codemirror_mode": {
    "name": "ipython",
    "version": 2
   },
   "file_extension": ".py",
   "mimetype": "text/x-python",
   "name": "python",
   "nbconvert_exporter": "python",
   "pygments_lexer": "ipython2",
   "version": "2.7.6"
  }
 },
 "nbformat": 4,
 "nbformat_minor": 5
}
