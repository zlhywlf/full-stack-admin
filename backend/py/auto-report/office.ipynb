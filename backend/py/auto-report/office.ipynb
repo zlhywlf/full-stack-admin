{
 "cells": [
  {
   "cell_type": "markdown",
   "source": [
    "# 自动化办公"
   ],
   "metadata": {
    "collapsed": false
   },
   "id": "7d7d53586d70182d"
  },
  {
   "cell_type": "code",
   "execution_count": 5,
   "outputs": [
    {
     "name": "stdout",
     "output_type": "stream",
     "text": [
      "3.0.10\n"
     ]
    }
   ],
   "source": [
    "from openpyxl import __version__\n",
    "import pathlib\n",
    "\n",
    "\n",
    "def get_path(name: str):\n",
    "    \"\"\"\n",
    "    获取数据文件绝对路径\n",
    "    :param name: 文件名称\n",
    "    :return: 文件绝对路径\n",
    "    \"\"\"\n",
    "    return str(pathlib.Path.home()) + r'/Desktop/data/' + name\n",
    "\n",
    "\n",
    "print(__version__)"
   ],
   "metadata": {
    "collapsed": false,
    "ExecuteTime": {
     "end_time": "2023-08-07T09:41:33.067318Z",
     "start_time": "2023-08-07T09:41:33.059193Z"
    }
   },
   "id": "8ee612ffdabcf608"
  },
  {
   "cell_type": "markdown",
   "source": [
    "## 打开工作簿"
   ],
   "metadata": {
    "collapsed": false
   },
   "id": "f8368647c8ff30f6"
  },
  {
   "cell_type": "code",
   "execution_count": 11,
   "outputs": [
    {
     "data": {
      "text/plain": "<openpyxl.workbook.workbook.Workbook at 0x121ceea50>"
     },
     "execution_count": 11,
     "metadata": {},
     "output_type": "execute_result"
    }
   ],
   "source": [
    "from openpyxl import load_workbook\n",
    "\n",
    "data_path = get_path(r'dataset.xlsx')\n",
    "wb = load_workbook(data_path)\n",
    "wb"
   ],
   "metadata": {
    "collapsed": false,
    "ExecuteTime": {
     "end_time": "2023-08-07T09:44:14.441507Z",
     "start_time": "2023-08-07T09:44:14.293327Z"
    }
   },
   "id": "d3fe16f0de1ed891"
  },
  {
   "cell_type": "markdown",
   "source": [
    "## 创建工作簿"
   ],
   "metadata": {
    "collapsed": false
   },
   "id": "cf50d783ccfc9841"
  },
  {
   "cell_type": "code",
   "execution_count": 41,
   "outputs": [],
   "source": [
    "from openpyxl import Workbook\n",
    "from openpyxl.worksheet.worksheet import Worksheet\n",
    "from openpyxl.worksheet.properties import WorksheetProperties\n",
    "from openpyxl.worksheet.dimensions import DimensionHolder\n",
    "from openpyxl.cell.cell import Cell\n",
    "from openpyxl.styles import Font, PatternFill, Border, Side, Alignment\n",
    "\n",
    "wb = Workbook()\n",
    "# 创建 sheet\n",
    "wb.create_sheet()\n",
    "# 进入默认 sheet\n",
    "ws: Worksheet = wb.active\n",
    "# 更改 sheet 名称\n",
    "ws.title = 'sheetTitle'\n",
    "# 更改 sheet 颜色\n",
    "ws_properties: WorksheetProperties = ws.sheet_properties\n",
    "ws_properties.tabColor = 'ffee0000'\n",
    "# 指定单元格写入数据\n",
    "ws['A1'] = 'A1'\n",
    "ws.cell(row=1, column=2, value='B1')\n",
    "cell: Cell = ws.cell(1, 3)\n",
    "cell.value = '1'\n",
    "# 字体\n",
    "cell.font = Font(color='ffee0000')\n",
    "# 填充\n",
    "cell.fill = PatternFill(fill_type='solid', start_color='4992F2')\n",
    "# 边框\n",
    "cell.border = Border(\n",
    "    right=Side(border_style='thick', color='000000')\n",
    ")\n",
    "# 对齐\n",
    "cell.alignment = Alignment(horizontal='center', vertical='bottom')\n",
    "# 写入一行数据\n",
    "ws.append([1, 2, 3])\n",
    "ws.append({1: 1, 3: 3})\n",
    "ws.append({'B': 2})\n",
    "# 设置行高\n",
    "ws.row_dimensions[1].height = 40\n",
    "wb.save(get_path(\"demo.xlsx\"))"
   ],
   "metadata": {
    "collapsed": false,
    "ExecuteTime": {
     "end_time": "2023-08-07T10:43:38.989653Z",
     "start_time": "2023-08-07T10:43:38.974333Z"
    }
   },
   "id": "ed5aba32e6d6b0db"
  }
 ],
 "metadata": {
  "kernelspec": {
   "display_name": "Python 3",
   "language": "python",
   "name": "python3"
  },
  "language_info": {
   "codemirror_mode": {
    "name": "ipython",
    "version": 2
   },
   "file_extension": ".py",
   "mimetype": "text/x-python",
   "name": "python",
   "nbconvert_exporter": "python",
   "pygments_lexer": "ipython2",
   "version": "2.7.6"
  }
 },
 "nbformat": 4,
 "nbformat_minor": 5
}
