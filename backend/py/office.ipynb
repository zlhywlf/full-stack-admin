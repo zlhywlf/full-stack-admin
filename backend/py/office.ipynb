{
 "cells": [
  {
   "cell_type": "markdown",
   "source": [
    "# 自动化办公"
   ],
   "metadata": {
    "collapsed": false
   },
   "id": "7d7d53586d70182d"
  },
  {
   "cell_type": "code",
   "execution_count": null,
   "outputs": [],
   "source": [
    "from openpyxl import __version__\n",
    "\n",
    "print(__version__)"
   ],
   "metadata": {
    "collapsed": false
   },
   "id": "8ee612ffdabcf608"
  },
  {
   "cell_type": "code",
   "execution_count": null,
   "outputs": [],
   "source": [
    "from openpyxl import Workbook\n",
    "from openpyxl.worksheet.worksheet import Worksheet\n",
    "import datetime\n",
    "import pathlib\n",
    "\n",
    "file_path = str(pathlib.Path.home()) + \"/Desktop/sample.xlsx\""
   ],
   "metadata": {
    "collapsed": false
   },
   "id": "f6085dbbab8a7c72"
  },
  {
   "cell_type": "markdown",
   "source": [
    "## 工作簿"
   ],
   "metadata": {
    "collapsed": false
   },
   "id": "6ea8a30c959c95e9"
  },
  {
   "cell_type": "code",
   "execution_count": null,
   "outputs": [],
   "source": [
    "# 创建工作簿\n",
    "wb = Workbook()\n",
    "# 创建工作表\n",
    "wb.create_sheet(\"MySheet\")\n",
    "# 所有工作表名称\n",
    "for name in wb.sheetnames:\n",
    "    # 获取指定工作表\n",
    "    print(wb[name])\n",
    "print(\"==================\")\n",
    "# 遍历所有工作表\n",
    "for sheet in wb:\n",
    "    print(sheet)"
   ],
   "metadata": {
    "collapsed": false
   },
   "id": "76d6ebe7fb2cda40"
  },
  {
   "cell_type": "markdown",
   "source": [
    "## 工作表"
   ],
   "metadata": {
    "collapsed": false
   },
   "id": "7f99eaaa13d86a6c"
  },
  {
   "cell_type": "code",
   "execution_count": null,
   "outputs": [],
   "source": [
    "# 进入默认 sheet\n",
    "ws: Worksheet = wb.active\n",
    "# 修改 sheet 名称\n",
    "ws.title = \"cus\""
   ],
   "metadata": {
    "collapsed": false
   },
   "id": "97e3f1f6074103d3"
  },
  {
   "cell_type": "markdown",
   "source": [
    "## 单元格"
   ],
   "metadata": {
    "collapsed": false
   },
   "id": "9a247953172e9508"
  },
  {
   "cell_type": "code",
   "execution_count": null,
   "outputs": [],
   "source": [
    "# 操作单元格\n",
    "ws['A1'] = 42\n",
    "ws['A2'] = datetime.datetime.now()\n",
    "ws.append([1, 2, 3])\n",
    "ws.cell(1, 2, 100)"
   ],
   "metadata": {
    "collapsed": false
   },
   "id": "e2b1b3b3a0036426"
  },
  {
   "cell_type": "markdown",
   "source": [
    "## 保存"
   ],
   "metadata": {
    "collapsed": false
   },
   "id": "d2415c96bfd8a482"
  },
  {
   "cell_type": "code",
   "execution_count": null,
   "outputs": [],
   "source": [
    "# 保存\n",
    "wb.save(file_path)"
   ],
   "metadata": {
    "collapsed": false
   },
   "id": "a9c01b438c289205"
  }
 ],
 "metadata": {
  "kernelspec": {
   "display_name": "Python 3",
   "language": "python",
   "name": "python3"
  },
  "language_info": {
   "codemirror_mode": {
    "name": "ipython",
    "version": 2
   },
   "file_extension": ".py",
   "mimetype": "text/x-python",
   "name": "python",
   "nbconvert_exporter": "python",
   "pygments_lexer": "ipython2",
   "version": "2.7.6"
  }
 },
 "nbformat": 4,
 "nbformat_minor": 5
}
