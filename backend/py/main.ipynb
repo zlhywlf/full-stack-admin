{
 "cells": [
  {
   "cell_type": "markdown",
   "source": [
    "# 基础语法\n",
    "python 是强类型的动态脚本语言，一切皆对象（id，type，value）\n",
    "变量位于栈，对象位于堆\n",
    "变量储存的是对象的地址"
   ],
   "metadata": {
    "collapsed": false
   }
  },
  {
   "cell_type": "code",
   "execution_count": null,
   "outputs": [],
   "source": [
    "name = 666\n",
    "# 对象唯一标识，即内存地址\n",
    "\"对象唯一标识-即内存地址 = %d, 对象类型 = %s, 对象的值 = %d\" % (id(name), type(name), name)"
   ],
   "metadata": {
    "collapsed": false
   }
  },
  {
   "cell_type": "code",
   "execution_count": null,
   "outputs": [],
   "source": [
    "if name == 666:\n",
    "    print(name)\n",
    "elif name > 666:\n",
    "    print()\n",
    "else:\n",
    "    print()\n",
    "print(\"666\") if name == 666 else print(\"---\")"
   ],
   "metadata": {
    "collapsed": false
   }
  },
  {
   "cell_type": "code",
   "execution_count": null,
   "outputs": [],
   "source": [
    "while name < 670:\n",
    "    print(name)\n",
    "    name += 1\n",
    "name = 666"
   ],
   "metadata": {
    "collapsed": false
   }
  },
  {
   "cell_type": "code",
   "execution_count": null,
   "outputs": [],
   "source": [
    "for x in str(name):\n",
    "    print('x = %s' % x)"
   ],
   "metadata": {
    "collapsed": false
   }
  }
 ],
 "metadata": {
  "kernelspec": {
   "name": "python3",
   "language": "python",
   "display_name": "Python 3"
  },
  "language_info": {
   "codemirror_mode": {
    "name": "ipython",
    "version": 2
   },
   "file_extension": ".py",
   "mimetype": "text/x-python",
   "name": "python",
   "nbconvert_exporter": "python",
   "pygments_lexer": "ipython2",
   "version": "2.7.6"
  }
 },
 "nbformat": 4,
 "nbformat_minor": 0
}
